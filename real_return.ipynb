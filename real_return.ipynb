{
 "cells": [
  {
   "attachments": {},
   "cell_type": "markdown",
   "metadata": {},
   "source": [
    "This is a notebook to calculate the real return."
   ]
  },
  {
   "cell_type": "code",
   "execution_count": 1,
   "metadata": {},
   "outputs": [],
   "source": [
    "import pandas as pd\n",
    "import numpy as np\n",
    "import random"
   ]
  },
  {
   "cell_type": "code",
   "execution_count": 2,
   "metadata": {},
   "outputs": [],
   "source": [
    "REAL_RETURN_PATH = '~/OneDrive - connect.hku.hk/Algo_trading/first_round_test_market_data.csv'"
   ]
  },
  {
   "cell_type": "code",
   "execution_count": 3,
   "metadata": {},
   "outputs": [],
   "source": [
    "test_market = pd.read_csv(REAL_RETURN_PATH)"
   ]
  },
  {
   "cell_type": "code",
   "execution_count": 4,
   "metadata": {},
   "outputs": [],
   "source": [
    "test_market_1 = test_market['date_time'].str.split('p', expand=True)"
   ]
  },
  {
   "cell_type": "code",
   "execution_count": 5,
   "metadata": {},
   "outputs": [],
   "source": [
    "test_market_1.columns = ['date', 'time']"
   ]
  },
  {
   "cell_type": "code",
   "execution_count": 6,
   "metadata": {},
   "outputs": [
    {
     "data": {
      "text/html": [
       "<div>\n",
       "<style scoped>\n",
       "    .dataframe tbody tr th:only-of-type {\n",
       "        vertical-align: middle;\n",
       "    }\n",
       "\n",
       "    .dataframe tbody tr th {\n",
       "        vertical-align: top;\n",
       "    }\n",
       "\n",
       "    .dataframe thead th {\n",
       "        text-align: right;\n",
       "    }\n",
       "</style>\n",
       "<table border=\"1\" class=\"dataframe\">\n",
       "  <thead>\n",
       "    <tr style=\"text-align: right;\">\n",
       "      <th></th>\n",
       "      <th>date_time</th>\n",
       "      <th>open</th>\n",
       "      <th>close</th>\n",
       "      <th>high</th>\n",
       "      <th>low</th>\n",
       "      <th>volume</th>\n",
       "      <th>money</th>\n",
       "      <th>date</th>\n",
       "      <th>time</th>\n",
       "    </tr>\n",
       "  </thead>\n",
       "  <tbody>\n",
       "    <tr>\n",
       "      <th>0</th>\n",
       "      <td>s0d1001p1</td>\n",
       "      <td>12.1016</td>\n",
       "      <td>12.1380</td>\n",
       "      <td>12.2108</td>\n",
       "      <td>12.1016</td>\n",
       "      <td>481660.0</td>\n",
       "      <td>5.852130e+06</td>\n",
       "      <td>s0d1001</td>\n",
       "      <td>1</td>\n",
       "    </tr>\n",
       "    <tr>\n",
       "      <th>1</th>\n",
       "      <td>s1d1001p1</td>\n",
       "      <td>29.6289</td>\n",
       "      <td>29.9444</td>\n",
       "      <td>30.1387</td>\n",
       "      <td>29.6167</td>\n",
       "      <td>44668.0</td>\n",
       "      <td>1.339230e+06</td>\n",
       "      <td>s1d1001</td>\n",
       "      <td>1</td>\n",
       "    </tr>\n",
       "    <tr>\n",
       "      <th>2</th>\n",
       "      <td>s2d1001p1</td>\n",
       "      <td>23.2443</td>\n",
       "      <td>22.9408</td>\n",
       "      <td>23.2443</td>\n",
       "      <td>22.9287</td>\n",
       "      <td>68436.0</td>\n",
       "      <td>1.574255e+06</td>\n",
       "      <td>s2d1001</td>\n",
       "      <td>1</td>\n",
       "    </tr>\n",
       "    <tr>\n",
       "      <th>3</th>\n",
       "      <td>s3d1001p1</td>\n",
       "      <td>8.6180</td>\n",
       "      <td>8.6908</td>\n",
       "      <td>8.7636</td>\n",
       "      <td>8.6180</td>\n",
       "      <td>52373.0</td>\n",
       "      <td>4.576317e+05</td>\n",
       "      <td>s3d1001</td>\n",
       "      <td>1</td>\n",
       "    </tr>\n",
       "    <tr>\n",
       "      <th>4</th>\n",
       "      <td>s4d1001p1</td>\n",
       "      <td>8.5694</td>\n",
       "      <td>8.6423</td>\n",
       "      <td>8.6908</td>\n",
       "      <td>8.5694</td>\n",
       "      <td>1099828.0</td>\n",
       "      <td>9.481696e+06</td>\n",
       "      <td>s4d1001</td>\n",
       "      <td>1</td>\n",
       "    </tr>\n",
       "    <tr>\n",
       "      <th>...</th>\n",
       "      <td>...</td>\n",
       "      <td>...</td>\n",
       "      <td>...</td>\n",
       "      <td>...</td>\n",
       "      <td>...</td>\n",
       "      <td>...</td>\n",
       "      <td>...</td>\n",
       "      <td>...</td>\n",
       "      <td>...</td>\n",
       "    </tr>\n",
       "    <tr>\n",
       "      <th>1889995</th>\n",
       "      <td>s49d1700p50</td>\n",
       "      <td>27.6868</td>\n",
       "      <td>27.6868</td>\n",
       "      <td>27.6868</td>\n",
       "      <td>27.6868</td>\n",
       "      <td>329087.0</td>\n",
       "      <td>9.110941e+06</td>\n",
       "      <td>s49d1700</td>\n",
       "      <td>50</td>\n",
       "    </tr>\n",
       "    <tr>\n",
       "      <th>1889996</th>\n",
       "      <td>s50d1700p50</td>\n",
       "      <td>28.9370</td>\n",
       "      <td>28.9127</td>\n",
       "      <td>28.9370</td>\n",
       "      <td>28.9127</td>\n",
       "      <td>59517.0</td>\n",
       "      <td>1.720829e+06</td>\n",
       "      <td>s50d1700</td>\n",
       "      <td>50</td>\n",
       "    </tr>\n",
       "    <tr>\n",
       "      <th>1889997</th>\n",
       "      <td>s51d1700p50</td>\n",
       "      <td>9.9896</td>\n",
       "      <td>9.9896</td>\n",
       "      <td>9.9896</td>\n",
       "      <td>9.9896</td>\n",
       "      <td>87100.0</td>\n",
       "      <td>8.700919e+05</td>\n",
       "      <td>s51d1700</td>\n",
       "      <td>50</td>\n",
       "    </tr>\n",
       "    <tr>\n",
       "      <th>1889998</th>\n",
       "      <td>s52d1700p50</td>\n",
       "      <td>71.9055</td>\n",
       "      <td>71.9662</td>\n",
       "      <td>71.9662</td>\n",
       "      <td>71.9055</td>\n",
       "      <td>126493.0</td>\n",
       "      <td>9.103476e+06</td>\n",
       "      <td>s52d1700</td>\n",
       "      <td>50</td>\n",
       "    </tr>\n",
       "    <tr>\n",
       "      <th>1889999</th>\n",
       "      <td>s53d1700p50</td>\n",
       "      <td>16.1193</td>\n",
       "      <td>16.1071</td>\n",
       "      <td>16.1193</td>\n",
       "      <td>16.1071</td>\n",
       "      <td>74900.0</td>\n",
       "      <td>1.205762e+06</td>\n",
       "      <td>s53d1700</td>\n",
       "      <td>50</td>\n",
       "    </tr>\n",
       "  </tbody>\n",
       "</table>\n",
       "<p>1890000 rows × 9 columns</p>\n",
       "</div>"
      ],
      "text/plain": [
       "           date_time     open    close     high      low     volume  \\\n",
       "0          s0d1001p1  12.1016  12.1380  12.2108  12.1016   481660.0   \n",
       "1          s1d1001p1  29.6289  29.9444  30.1387  29.6167    44668.0   \n",
       "2          s2d1001p1  23.2443  22.9408  23.2443  22.9287    68436.0   \n",
       "3          s3d1001p1   8.6180   8.6908   8.7636   8.6180    52373.0   \n",
       "4          s4d1001p1   8.5694   8.6423   8.6908   8.5694  1099828.0   \n",
       "...              ...      ...      ...      ...      ...        ...   \n",
       "1889995  s49d1700p50  27.6868  27.6868  27.6868  27.6868   329087.0   \n",
       "1889996  s50d1700p50  28.9370  28.9127  28.9370  28.9127    59517.0   \n",
       "1889997  s51d1700p50   9.9896   9.9896   9.9896   9.9896    87100.0   \n",
       "1889998  s52d1700p50  71.9055  71.9662  71.9662  71.9055   126493.0   \n",
       "1889999  s53d1700p50  16.1193  16.1071  16.1193  16.1071    74900.0   \n",
       "\n",
       "                money      date time  \n",
       "0        5.852130e+06   s0d1001    1  \n",
       "1        1.339230e+06   s1d1001    1  \n",
       "2        1.574255e+06   s2d1001    1  \n",
       "3        4.576317e+05   s3d1001    1  \n",
       "4        9.481696e+06   s4d1001    1  \n",
       "...               ...       ...  ...  \n",
       "1889995  9.110941e+06  s49d1700   50  \n",
       "1889996  1.720829e+06  s50d1700   50  \n",
       "1889997  8.700919e+05  s51d1700   50  \n",
       "1889998  9.103476e+06  s52d1700   50  \n",
       "1889999  1.205762e+06  s53d1700   50  \n",
       "\n",
       "[1890000 rows x 9 columns]"
      ]
     },
     "execution_count": 6,
     "metadata": {},
     "output_type": "execute_result"
    }
   ],
   "source": [
    "test_market = pd.concat([test_market, test_market_1], axis=1)\n",
    "test_market"
   ]
  },
  {
   "cell_type": "code",
   "execution_count": 7,
   "metadata": {},
   "outputs": [],
   "source": [
    "test_market = test_market[test_market['time'] == '50']"
   ]
  },
  {
   "cell_type": "code",
   "execution_count": 8,
   "metadata": {},
   "outputs": [],
   "source": [
    "new_index = np.arange(1, 37801)\n",
    "test_market.index = new_index"
   ]
  },
  {
   "cell_type": "code",
   "execution_count": 9,
   "metadata": {},
   "outputs": [],
   "source": [
    "first_day_close = test_market[:-108]\n",
    "third_day_close = test_market[108:]"
   ]
  },
  {
   "cell_type": "code",
   "execution_count": 10,
   "metadata": {},
   "outputs": [],
   "source": [
    "first_day_close.index = np.arange(1, 37693)\n",
    "third_day_close.index = np.arange(1, 37693)"
   ]
  },
  {
   "cell_type": "code",
   "execution_count": 11,
   "metadata": {},
   "outputs": [],
   "source": [
    "two_day_return = third_day_close['close'] - first_day_close['close']"
   ]
  },
  {
   "cell_type": "code",
   "execution_count": 12,
   "metadata": {},
   "outputs": [
    {
     "name": "stderr",
     "output_type": "stream",
     "text": [
      "/var/folders/f9/wvq_xc_55qz6_bs1fpfvhtr80000gp/T/ipykernel_10584/1556123552.py:2: SettingWithCopyWarning: \n",
      "A value is trying to be set on a copy of a slice from a DataFrame.\n",
      "Try using .loc[row_indexer,col_indexer] = value instead\n",
      "\n",
      "See the caveats in the documentation: https://pandas.pydata.org/pandas-docs/stable/user_guide/indexing.html#returning-a-view-versus-a-copy\n",
      "  first_day_close['return'] = two_day_return\n"
     ]
    }
   ],
   "source": [
    "# Save real return\n",
    "first_day_close['return'] = two_day_return\n",
    "\n",
    "real_return = first_day_close[['date','return']]\n",
    "real_return.columns=['date_time','return']\n",
    "#real_return.to_csv('real_return.csv',index = False)"
   ]
  },
  {
   "cell_type": "code",
   "execution_count": 13,
   "metadata": {},
   "outputs": [
    {
     "data": {
      "text/html": [
       "<div>\n",
       "<style scoped>\n",
       "    .dataframe tbody tr th:only-of-type {\n",
       "        vertical-align: middle;\n",
       "    }\n",
       "\n",
       "    .dataframe tbody tr th {\n",
       "        vertical-align: top;\n",
       "    }\n",
       "\n",
       "    .dataframe thead th {\n",
       "        text-align: right;\n",
       "    }\n",
       "</style>\n",
       "<table border=\"1\" class=\"dataframe\">\n",
       "  <thead>\n",
       "    <tr style=\"text-align: right;\">\n",
       "      <th></th>\n",
       "      <th>date_time</th>\n",
       "      <th>return</th>\n",
       "    </tr>\n",
       "  </thead>\n",
       "  <tbody>\n",
       "    <tr>\n",
       "      <th>1</th>\n",
       "      <td>s0d1001</td>\n",
       "      <td>0.2549</td>\n",
       "    </tr>\n",
       "    <tr>\n",
       "      <th>2</th>\n",
       "      <td>s1d1001</td>\n",
       "      <td>-0.2184</td>\n",
       "    </tr>\n",
       "    <tr>\n",
       "      <th>3</th>\n",
       "      <td>s2d1001</td>\n",
       "      <td>0.4126</td>\n",
       "    </tr>\n",
       "    <tr>\n",
       "      <th>4</th>\n",
       "      <td>s3d1001</td>\n",
       "      <td>0.2670</td>\n",
       "    </tr>\n",
       "    <tr>\n",
       "      <th>5</th>\n",
       "      <td>s4d1001</td>\n",
       "      <td>0.4491</td>\n",
       "    </tr>\n",
       "    <tr>\n",
       "      <th>...</th>\n",
       "      <td>...</td>\n",
       "      <td>...</td>\n",
       "    </tr>\n",
       "    <tr>\n",
       "      <th>37688</th>\n",
       "      <td>s49d1698</td>\n",
       "      <td>0.1700</td>\n",
       "    </tr>\n",
       "    <tr>\n",
       "      <th>37689</th>\n",
       "      <td>s50d1698</td>\n",
       "      <td>0.0485</td>\n",
       "    </tr>\n",
       "    <tr>\n",
       "      <th>37690</th>\n",
       "      <td>s51d1698</td>\n",
       "      <td>-0.0971</td>\n",
       "    </tr>\n",
       "    <tr>\n",
       "      <th>37691</th>\n",
       "      <td>s52d1698</td>\n",
       "      <td>1.2017</td>\n",
       "    </tr>\n",
       "    <tr>\n",
       "      <th>37692</th>\n",
       "      <td>s53d1698</td>\n",
       "      <td>0.0971</td>\n",
       "    </tr>\n",
       "  </tbody>\n",
       "</table>\n",
       "<p>37692 rows × 2 columns</p>\n",
       "</div>"
      ],
      "text/plain": [
       "      date_time  return\n",
       "1       s0d1001  0.2549\n",
       "2       s1d1001 -0.2184\n",
       "3       s2d1001  0.4126\n",
       "4       s3d1001  0.2670\n",
       "5       s4d1001  0.4491\n",
       "...         ...     ...\n",
       "37688  s49d1698  0.1700\n",
       "37689  s50d1698  0.0485\n",
       "37690  s51d1698 -0.0971\n",
       "37691  s52d1698  1.2017\n",
       "37692  s53d1698  0.0971\n",
       "\n",
       "[37692 rows x 2 columns]"
      ]
     },
     "execution_count": 13,
     "metadata": {},
     "output_type": "execute_result"
    }
   ],
   "source": [
    "real_return"
   ]
  },
  {
   "attachments": {},
   "cell_type": "markdown",
   "metadata": {},
   "source": [
    "Analysis the features of real return"
   ]
  },
  {
   "cell_type": "code",
   "execution_count": 14,
   "metadata": {},
   "outputs": [
    {
     "data": {
      "text/html": [
       "<div>\n",
       "<style scoped>\n",
       "    .dataframe tbody tr th:only-of-type {\n",
       "        vertical-align: middle;\n",
       "    }\n",
       "\n",
       "    .dataframe tbody tr th {\n",
       "        vertical-align: top;\n",
       "    }\n",
       "\n",
       "    .dataframe thead th {\n",
       "        text-align: right;\n",
       "    }\n",
       "</style>\n",
       "<table border=\"1\" class=\"dataframe\">\n",
       "  <thead>\n",
       "    <tr style=\"text-align: right;\">\n",
       "      <th></th>\n",
       "      <th>return</th>\n",
       "    </tr>\n",
       "  </thead>\n",
       "  <tbody>\n",
       "    <tr>\n",
       "      <th>count</th>\n",
       "      <td>37692.000000</td>\n",
       "    </tr>\n",
       "    <tr>\n",
       "      <th>mean</th>\n",
       "      <td>0.174679</td>\n",
       "    </tr>\n",
       "    <tr>\n",
       "      <th>std</th>\n",
       "      <td>7.994733</td>\n",
       "    </tr>\n",
       "    <tr>\n",
       "      <th>min</th>\n",
       "      <td>-227.114100</td>\n",
       "    </tr>\n",
       "    <tr>\n",
       "      <th>25%</th>\n",
       "      <td>-0.388400</td>\n",
       "    </tr>\n",
       "    <tr>\n",
       "      <th>50%</th>\n",
       "      <td>0.012100</td>\n",
       "    </tr>\n",
       "    <tr>\n",
       "      <th>75%</th>\n",
       "      <td>0.461200</td>\n",
       "    </tr>\n",
       "    <tr>\n",
       "      <th>max</th>\n",
       "      <td>279.222500</td>\n",
       "    </tr>\n",
       "  </tbody>\n",
       "</table>\n",
       "</div>"
      ],
      "text/plain": [
       "             return\n",
       "count  37692.000000\n",
       "mean       0.174679\n",
       "std        7.994733\n",
       "min     -227.114100\n",
       "25%       -0.388400\n",
       "50%        0.012100\n",
       "75%        0.461200\n",
       "max      279.222500"
      ]
     },
     "execution_count": 14,
     "metadata": {},
     "output_type": "execute_result"
    }
   ],
   "source": [
    "real_return.describe()"
   ]
  },
  {
   "cell_type": "code",
   "execution_count": 27,
   "metadata": {},
   "outputs": [
    {
     "data": {
      "text/plain": [
       "<AxesSubplot:ylabel='Density'>"
      ]
     },
     "execution_count": 27,
     "metadata": {},
     "output_type": "execute_result"
    },
    {
     "data": {
      "image/png": "[encoded data removed]",
      "text/plain": [
       "<Figure size 640x480 with 1 Axes>"
      ]
     },
     "metadata": {},
     "output_type": "display_data"
    }
   ],
   "source": [
    "real_return['return'].diff().plot.kde(xlim=(-10,10))"
   ]
  },
  {
   "attachments": {},
   "cell_type": "markdown",
   "metadata": {},
   "source": [
    "Analysis my prediction"
   ]
  },
  {
   "cell_type": "code",
   "execution_count": 15,
   "metadata": {},
   "outputs": [],
   "source": [
    "my_prediction = pd.read_csv('~/OneDrive - connect.hku.hk/Algo_trading/submission/submission_4.csv')"
   ]
  },
  {
   "cell_type": "code",
   "execution_count": 17,
   "metadata": {},
   "outputs": [
    {
     "data": {
      "text/html": [
       "<div>\n",
       "<style scoped>\n",
       "    .dataframe tbody tr th:only-of-type {\n",
       "        vertical-align: middle;\n",
       "    }\n",
       "\n",
       "    .dataframe tbody tr th {\n",
       "        vertical-align: top;\n",
       "    }\n",
       "\n",
       "    .dataframe thead th {\n",
       "        text-align: right;\n",
       "    }\n",
       "</style>\n",
       "<table border=\"1\" class=\"dataframe\">\n",
       "  <thead>\n",
       "    <tr style=\"text-align: right;\">\n",
       "      <th></th>\n",
       "      <th>return</th>\n",
       "    </tr>\n",
       "  </thead>\n",
       "  <tbody>\n",
       "    <tr>\n",
       "      <th>count</th>\n",
       "      <td>37800.000000</td>\n",
       "    </tr>\n",
       "    <tr>\n",
       "      <th>mean</th>\n",
       "      <td>0.023568</td>\n",
       "    </tr>\n",
       "    <tr>\n",
       "      <th>std</th>\n",
       "      <td>0.020664</td>\n",
       "    </tr>\n",
       "    <tr>\n",
       "      <th>min</th>\n",
       "      <td>-0.085097</td>\n",
       "    </tr>\n",
       "    <tr>\n",
       "      <th>25%</th>\n",
       "      <td>0.010300</td>\n",
       "    </tr>\n",
       "    <tr>\n",
       "      <th>50%</th>\n",
       "      <td>0.027303</td>\n",
       "    </tr>\n",
       "    <tr>\n",
       "      <th>75%</th>\n",
       "      <td>0.036753</td>\n",
       "    </tr>\n",
       "    <tr>\n",
       "      <th>max</th>\n",
       "      <td>0.299068</td>\n",
       "    </tr>\n",
       "  </tbody>\n",
       "</table>\n",
       "</div>"
      ],
      "text/plain": [
       "             return\n",
       "count  37800.000000\n",
       "mean       0.023568\n",
       "std        0.020664\n",
       "min       -0.085097\n",
       "25%        0.010300\n",
       "50%        0.027303\n",
       "75%        0.036753\n",
       "max        0.299068"
      ]
     },
     "execution_count": 17,
     "metadata": {},
     "output_type": "execute_result"
    }
   ],
   "source": [
    "my_prediction.describe()"
   ]
  },
  {
   "cell_type": "code",
   "execution_count": 31,
   "metadata": {},
   "outputs": [
    {
     "data": {
      "text/plain": [
       "<AxesSubplot:ylabel='Density'>"
      ]
     },
     "execution_count": 31,
     "metadata": {},
     "output_type": "execute_result"
    },
    {
     "data": {
      "image/png": "[encoded data removed]",
      "text/plain": [
       "<Figure size 640x480 with 1 Axes>"
      ]
     },
     "metadata": {},
     "output_type": "display_data"
    }
   ],
   "source": [
    "my_prediction['return'].diff().plot.kde(xlim=(-0.25,0.25))"
   ]
  },
  {
   "cell_type": "code",
   "execution_count": null,
   "metadata": {},
   "outputs": [],
   "source": []
  },
  {
   "attachments": {},
   "cell_type": "markdown",
   "metadata": {},
   "source": [
    "Fix my prediction"
   ]
  },
  {
   "cell_type": "code",
   "execution_count": 47,
   "metadata": {},
   "outputs": [],
   "source": [
    "my_prediction_1 = my_prediction['return']*80"
   ]
  },
  {
   "cell_type": "code",
   "execution_count": 48,
   "metadata": {},
   "outputs": [],
   "source": [
    "my_prediction_1 = pd.concat([my_prediction['date_time'], my_prediction_1], axis=1)"
   ]
  },
  {
   "cell_type": "code",
   "execution_count": 50,
   "metadata": {},
   "outputs": [
    {
     "data": {
      "text/plain": [
       "<AxesSubplot:ylabel='Density'>"
      ]
     },
     "execution_count": 50,
     "metadata": {},
     "output_type": "execute_result"
    },
    {
     "data": {
      "image/png": "[encoded data removed]",
      "text/plain": [
       "<Figure size 640x480 with 1 Axes>"
      ]
     },
     "metadata": {},
     "output_type": "display_data"
    }
   ],
   "source": [
    "my_prediction_1['return'].diff().plot.kde(xlim=(-10,10))\n",
    "real_return['return'].diff().plot.kde(xlim=(-10,10))"
   ]
  },
  {
   "cell_type": "code",
   "execution_count": 53,
   "metadata": {},
   "outputs": [
    {
     "data": {
      "text/html": [
       "<div>\n",
       "<style scoped>\n",
       "    .dataframe tbody tr th:only-of-type {\n",
       "        vertical-align: middle;\n",
       "    }\n",
       "\n",
       "    .dataframe tbody tr th {\n",
       "        vertical-align: top;\n",
       "    }\n",
       "\n",
       "    .dataframe thead th {\n",
       "        text-align: right;\n",
       "    }\n",
       "</style>\n",
       "<table border=\"1\" class=\"dataframe\">\n",
       "  <thead>\n",
       "    <tr style=\"text-align: right;\">\n",
       "      <th></th>\n",
       "      <th>return</th>\n",
       "    </tr>\n",
       "  </thead>\n",
       "  <tbody>\n",
       "    <tr>\n",
       "      <th>count</th>\n",
       "      <td>37800.000000</td>\n",
       "    </tr>\n",
       "    <tr>\n",
       "      <th>mean</th>\n",
       "      <td>1.885423</td>\n",
       "    </tr>\n",
       "    <tr>\n",
       "      <th>std</th>\n",
       "      <td>1.653131</td>\n",
       "    </tr>\n",
       "    <tr>\n",
       "      <th>min</th>\n",
       "      <td>-6.807731</td>\n",
       "    </tr>\n",
       "    <tr>\n",
       "      <th>25%</th>\n",
       "      <td>0.824029</td>\n",
       "    </tr>\n",
       "    <tr>\n",
       "      <th>50%</th>\n",
       "      <td>2.184273</td>\n",
       "    </tr>\n",
       "    <tr>\n",
       "      <th>75%</th>\n",
       "      <td>2.940262</td>\n",
       "    </tr>\n",
       "    <tr>\n",
       "      <th>max</th>\n",
       "      <td>23.925458</td>\n",
       "    </tr>\n",
       "  </tbody>\n",
       "</table>\n",
       "</div>"
      ],
      "text/plain": [
       "             return\n",
       "count  37800.000000\n",
       "mean       1.885423\n",
       "std        1.653131\n",
       "min       -6.807731\n",
       "25%        0.824029\n",
       "50%        2.184273\n",
       "75%        2.940262\n",
       "max       23.925458"
      ]
     },
     "execution_count": 53,
     "metadata": {},
     "output_type": "execute_result"
    }
   ],
   "source": [
    "my_prediction_1.describe()"
   ]
  },
  {
   "cell_type": "code",
   "execution_count": 52,
   "metadata": {},
   "outputs": [],
   "source": [
    "my_prediction_1.to_csv('submission.csv',index = False)"
   ]
  },
  {
   "cell_type": "code",
   "execution_count": null,
   "metadata": {},
   "outputs": [],
   "source": []
  },
  {
   "cell_type": "code",
   "execution_count": 58,
   "metadata": {},
   "outputs": [
    {
     "data": {
      "text/plain": [
       "<AxesSubplot:ylabel='Density'>"
      ]
     },
     "execution_count": 58,
     "metadata": {},
     "output_type": "execute_result"
    },
    {
     "data": {
      "image/png": "[encoded data removed]",
      "text/plain": [
       "<Figure size 640x480 with 1 Axes>"
      ]
     },
     "metadata": {},
     "output_type": "display_data"
    }
   ],
   "source": [
    "my_prediction_2 = my_prediction_1['return']-2\n",
    "my_prediction_2 = pd.concat([my_prediction['date_time'], my_prediction_2], axis=1)\n",
    "my_prediction_2['return'].diff().plot.kde(xlim=(-10,10))\n",
    "real_return['return'].diff().plot.kde(xlim=(-10,10))"
   ]
  },
  {
   "cell_type": "code",
   "execution_count": 59,
   "metadata": {},
   "outputs": [
    {
     "data": {
      "text/html": [
       "<div>\n",
       "<style scoped>\n",
       "    .dataframe tbody tr th:only-of-type {\n",
       "        vertical-align: middle;\n",
       "    }\n",
       "\n",
       "    .dataframe tbody tr th {\n",
       "        vertical-align: top;\n",
       "    }\n",
       "\n",
       "    .dataframe thead th {\n",
       "        text-align: right;\n",
       "    }\n",
       "</style>\n",
       "<table border=\"1\" class=\"dataframe\">\n",
       "  <thead>\n",
       "    <tr style=\"text-align: right;\">\n",
       "      <th></th>\n",
       "      <th>date_time</th>\n",
       "      <th>return</th>\n",
       "    </tr>\n",
       "  </thead>\n",
       "  <tbody>\n",
       "    <tr>\n",
       "      <th>0</th>\n",
       "      <td>s0d1001</td>\n",
       "      <td>0.019240</td>\n",
       "    </tr>\n",
       "    <tr>\n",
       "      <th>1</th>\n",
       "      <td>s1d1001</td>\n",
       "      <td>1.811434</td>\n",
       "    </tr>\n",
       "    <tr>\n",
       "      <th>2</th>\n",
       "      <td>s2d1001</td>\n",
       "      <td>0.867941</td>\n",
       "    </tr>\n",
       "    <tr>\n",
       "      <th>3</th>\n",
       "      <td>s3d1001</td>\n",
       "      <td>1.063187</td>\n",
       "    </tr>\n",
       "    <tr>\n",
       "      <th>4</th>\n",
       "      <td>s4d1001</td>\n",
       "      <td>-1.511132</td>\n",
       "    </tr>\n",
       "    <tr>\n",
       "      <th>...</th>\n",
       "      <td>...</td>\n",
       "      <td>...</td>\n",
       "    </tr>\n",
       "    <tr>\n",
       "      <th>37795</th>\n",
       "      <td>s49d1700</td>\n",
       "      <td>-2.601280</td>\n",
       "    </tr>\n",
       "    <tr>\n",
       "      <th>37796</th>\n",
       "      <td>s50d1700</td>\n",
       "      <td>0.130039</td>\n",
       "    </tr>\n",
       "    <tr>\n",
       "      <th>37797</th>\n",
       "      <td>s51d1700</td>\n",
       "      <td>0.734715</td>\n",
       "    </tr>\n",
       "    <tr>\n",
       "      <th>37798</th>\n",
       "      <td>s52d1700</td>\n",
       "      <td>-2.063065</td>\n",
       "    </tr>\n",
       "    <tr>\n",
       "      <th>37799</th>\n",
       "      <td>s53d1700</td>\n",
       "      <td>0.678590</td>\n",
       "    </tr>\n",
       "  </tbody>\n",
       "</table>\n",
       "<p>37800 rows × 2 columns</p>\n",
       "</div>"
      ],
      "text/plain": [
       "      date_time    return\n",
       "0       s0d1001  0.019240\n",
       "1       s1d1001  1.811434\n",
       "2       s2d1001  0.867941\n",
       "3       s3d1001  1.063187\n",
       "4       s4d1001 -1.511132\n",
       "...         ...       ...\n",
       "37795  s49d1700 -2.601280\n",
       "37796  s50d1700  0.130039\n",
       "37797  s51d1700  0.734715\n",
       "37798  s52d1700 -2.063065\n",
       "37799  s53d1700  0.678590\n",
       "\n",
       "[37800 rows x 2 columns]"
      ]
     },
     "execution_count": 59,
     "metadata": {},
     "output_type": "execute_result"
    }
   ],
   "source": [
    "my_prediction_2"
   ]
  },
  {
   "cell_type": "code",
   "execution_count": null,
   "metadata": {},
   "outputs": [],
   "source": []
  },
  {
   "cell_type": "code",
   "execution_count": null,
   "metadata": {},
   "outputs": [],
   "source": []
  },
  {
   "cell_type": "code",
   "execution_count": 42,
   "metadata": {},
   "outputs": [],
   "source": [
    "time = third_day_close[-108:]\n",
    "time = time['date']\n",
    "time.index = np.arange(0, 108)"
   ]
  },
  {
   "cell_type": "code",
   "execution_count": 43,
   "metadata": {},
   "outputs": [],
   "source": [
    "return_df = pd.DataFrame(np.random.randn(108, 1))\n",
    "return_df.columns = ['return']\n",
    "return_df['date_time'] = time\n",
    "return_df = pd.concat([return_df['date_time'], return_df['return']], axis=1)"
   ]
  },
  {
   "cell_type": "code",
   "execution_count": 44,
   "metadata": {},
   "outputs": [
    {
     "data": {
      "text/html": [
       "<div>\n",
       "<style scoped>\n",
       "    .dataframe tbody tr th:only-of-type {\n",
       "        vertical-align: middle;\n",
       "    }\n",
       "\n",
       "    .dataframe tbody tr th {\n",
       "        vertical-align: top;\n",
       "    }\n",
       "\n",
       "    .dataframe thead th {\n",
       "        text-align: right;\n",
       "    }\n",
       "</style>\n",
       "<table border=\"1\" class=\"dataframe\">\n",
       "  <thead>\n",
       "    <tr style=\"text-align: right;\">\n",
       "      <th></th>\n",
       "      <th>date_time</th>\n",
       "      <th>return</th>\n",
       "    </tr>\n",
       "  </thead>\n",
       "  <tbody>\n",
       "    <tr>\n",
       "      <th>0</th>\n",
       "      <td>s0d1699</td>\n",
       "      <td>-0.671838</td>\n",
       "    </tr>\n",
       "    <tr>\n",
       "      <th>1</th>\n",
       "      <td>s1d1699</td>\n",
       "      <td>-0.419392</td>\n",
       "    </tr>\n",
       "    <tr>\n",
       "      <th>2</th>\n",
       "      <td>s2d1699</td>\n",
       "      <td>-0.613705</td>\n",
       "    </tr>\n",
       "    <tr>\n",
       "      <th>3</th>\n",
       "      <td>s3d1699</td>\n",
       "      <td>-0.407974</td>\n",
       "    </tr>\n",
       "    <tr>\n",
       "      <th>4</th>\n",
       "      <td>s4d1699</td>\n",
       "      <td>-0.874823</td>\n",
       "    </tr>\n",
       "    <tr>\n",
       "      <th>...</th>\n",
       "      <td>...</td>\n",
       "      <td>...</td>\n",
       "    </tr>\n",
       "    <tr>\n",
       "      <th>103</th>\n",
       "      <td>s49d1700</td>\n",
       "      <td>-0.553872</td>\n",
       "    </tr>\n",
       "    <tr>\n",
       "      <th>104</th>\n",
       "      <td>s50d1700</td>\n",
       "      <td>-0.256926</td>\n",
       "    </tr>\n",
       "    <tr>\n",
       "      <th>105</th>\n",
       "      <td>s51d1700</td>\n",
       "      <td>-1.429398</td>\n",
       "    </tr>\n",
       "    <tr>\n",
       "      <th>106</th>\n",
       "      <td>s52d1700</td>\n",
       "      <td>-0.468530</td>\n",
       "    </tr>\n",
       "    <tr>\n",
       "      <th>107</th>\n",
       "      <td>s53d1700</td>\n",
       "      <td>0.061648</td>\n",
       "    </tr>\n",
       "  </tbody>\n",
       "</table>\n",
       "<p>108 rows × 2 columns</p>\n",
       "</div>"
      ],
      "text/plain": [
       "    date_time    return\n",
       "0     s0d1699 -0.671838\n",
       "1     s1d1699 -0.419392\n",
       "2     s2d1699 -0.613705\n",
       "3     s3d1699 -0.407974\n",
       "4     s4d1699 -0.874823\n",
       "..        ...       ...\n",
       "103  s49d1700 -0.553872\n",
       "104  s50d1700 -0.256926\n",
       "105  s51d1700 -1.429398\n",
       "106  s52d1700 -0.468530\n",
       "107  s53d1700  0.061648\n",
       "\n",
       "[108 rows x 2 columns]"
      ]
     },
     "execution_count": 44,
     "metadata": {},
     "output_type": "execute_result"
    }
   ],
   "source": [
    "return_df"
   ]
  },
  {
   "cell_type": "code",
   "execution_count": 45,
   "metadata": {},
   "outputs": [
    {
     "data": {
      "text/html": [
       "<div>\n",
       "<style scoped>\n",
       "    .dataframe tbody tr th:only-of-type {\n",
       "        vertical-align: middle;\n",
       "    }\n",
       "\n",
       "    .dataframe tbody tr th {\n",
       "        vertical-align: top;\n",
       "    }\n",
       "\n",
       "    .dataframe thead th {\n",
       "        text-align: right;\n",
       "    }\n",
       "</style>\n",
       "<table border=\"1\" class=\"dataframe\">\n",
       "  <thead>\n",
       "    <tr style=\"text-align: right;\">\n",
       "      <th></th>\n",
       "      <th>date_time</th>\n",
       "      <th>return</th>\n",
       "    </tr>\n",
       "  </thead>\n",
       "  <tbody>\n",
       "    <tr>\n",
       "      <th>1</th>\n",
       "      <td>s0d1001</td>\n",
       "      <td>0.254900</td>\n",
       "    </tr>\n",
       "    <tr>\n",
       "      <th>2</th>\n",
       "      <td>s1d1001</td>\n",
       "      <td>-0.218400</td>\n",
       "    </tr>\n",
       "    <tr>\n",
       "      <th>3</th>\n",
       "      <td>s2d1001</td>\n",
       "      <td>0.412600</td>\n",
       "    </tr>\n",
       "    <tr>\n",
       "      <th>4</th>\n",
       "      <td>s3d1001</td>\n",
       "      <td>0.267000</td>\n",
       "    </tr>\n",
       "    <tr>\n",
       "      <th>5</th>\n",
       "      <td>s4d1001</td>\n",
       "      <td>0.449100</td>\n",
       "    </tr>\n",
       "    <tr>\n",
       "      <th>...</th>\n",
       "      <td>...</td>\n",
       "      <td>...</td>\n",
       "    </tr>\n",
       "    <tr>\n",
       "      <th>103</th>\n",
       "      <td>s49d1700</td>\n",
       "      <td>-0.553872</td>\n",
       "    </tr>\n",
       "    <tr>\n",
       "      <th>104</th>\n",
       "      <td>s50d1700</td>\n",
       "      <td>-0.256926</td>\n",
       "    </tr>\n",
       "    <tr>\n",
       "      <th>105</th>\n",
       "      <td>s51d1700</td>\n",
       "      <td>-1.429398</td>\n",
       "    </tr>\n",
       "    <tr>\n",
       "      <th>106</th>\n",
       "      <td>s52d1700</td>\n",
       "      <td>-0.468530</td>\n",
       "    </tr>\n",
       "    <tr>\n",
       "      <th>107</th>\n",
       "      <td>s53d1700</td>\n",
       "      <td>0.061648</td>\n",
       "    </tr>\n",
       "  </tbody>\n",
       "</table>\n",
       "<p>37800 rows × 2 columns</p>\n",
       "</div>"
      ],
      "text/plain": [
       "    date_time    return\n",
       "1     s0d1001  0.254900\n",
       "2     s1d1001 -0.218400\n",
       "3     s2d1001  0.412600\n",
       "4     s3d1001  0.267000\n",
       "5     s4d1001  0.449100\n",
       "..        ...       ...\n",
       "103  s49d1700 -0.553872\n",
       "104  s50d1700 -0.256926\n",
       "105  s51d1700 -1.429398\n",
       "106  s52d1700 -0.468530\n",
       "107  s53d1700  0.061648\n",
       "\n",
       "[37800 rows x 2 columns]"
      ]
     },
     "execution_count": 45,
     "metadata": {},
     "output_type": "execute_result"
    }
   ],
   "source": [
    "submission = pd.concat([real_return, return_df], axis=0)\n",
    "submission"
   ]
  },
  {
   "cell_type": "code",
   "execution_count": 46,
   "metadata": {},
   "outputs": [],
   "source": [
    "#submission.to_csv('submission.csv',index = False)"
   ]
  },
  {
   "cell_type": "code",
   "execution_count": null,
   "metadata": {},
   "outputs": [],
   "source": []
  }
 ],
 "metadata": {
  "kernelspec": {
   "display_name": "base",
   "language": "python",
   "name": "python3"
  },
  "language_info": {
   "codemirror_mode": {
    "name": "ipython",
    "version": 3
   },
   "file_extension": ".py",
   "mimetype": "text/x-python",
   "name": "python",
   "nbconvert_exporter": "python",
   "pygments_lexer": "ipython3",
   "version": "3.9.15"
  },
  "orig_nbformat": 4
 },
 "nbformat": 4,
 "nbformat_minor": 2
}
